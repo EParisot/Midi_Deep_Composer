{
 "cells": [
  {
   "cell_type": "code",
   "execution_count": null,
   "metadata": {
    "colab": {
     "base_uri": "https://localhost:8080/",
     "height": 139
    },
    "colab_type": "code",
    "executionInfo": {
     "elapsed": 8326,
     "status": "ok",
     "timestamp": 1564498145468,
     "user": {
      "displayName": "Eric Parisot",
      "photoUrl": "https://lh5.googleusercontent.com/-xh-35jiJukA/AAAAAAAAAAI/AAAAAAAAANk/DF6CloJb-Gg/s64/photo.jpg",
      "userId": "16194582336101501105"
     },
     "user_tz": -120
    },
    "id": "0JTaEZ99LLgp",
    "outputId": "50e8cc12-9b78-4db6-9d24-48038338ee01"
   },
   "outputs": [],
   "source": [
    "import os\n",
    "import numpy as np\n",
    "import pandas as pd\n",
    "from collections import deque\n",
    "\n",
    "!pip install music21\n",
    "!pip install pygame\n",
    "\n",
    "from music21 import converter, instrument, note, chord, midi, stream, meter\n",
    "\n",
    "from keras.models import Model, Sequential\n",
    "from keras.layers import *\n",
    "from keras.models import load_model\n",
    "import keras.backend as K\n",
    "import keras.callbacks\n",
    "from keras.utils import Sequence\n",
    "from keras.utils import to_categorical\n",
    "from keras.preprocessing.sequence import TimeseriesGenerator"
   ]
  },
  {
   "cell_type": "code",
   "execution_count": null,
   "metadata": {
    "colab": {},
    "colab_type": "code",
    "id": "gDE6l8ClLLgv"
   },
   "outputs": [],
   "source": [
    "# grab / parse data"
   ]
  },
  {
   "cell_type": "code",
   "execution_count": null,
   "metadata": {
    "colab": {
     "base_uri": "https://localhost:8080/",
     "height": 445
    },
    "colab_type": "code",
    "executionInfo": {
     "elapsed": 2511,
     "status": "ok",
     "timestamp": 1564504348343,
     "user": {
      "displayName": "Eric Parisot",
      "photoUrl": "https://lh5.googleusercontent.com/-xh-35jiJukA/AAAAAAAAAAI/AAAAAAAAANk/DF6CloJb-Gg/s64/photo.jpg",
      "userId": "16194582336101501105"
     },
     "user_tz": -120
    },
    "id": "QyjBEpCULLgw",
    "outputId": "24a1a45a-6745-45e2-c105-9491309b0cd2"
   },
   "outputs": [],
   "source": [
    "directory = \"midi/Piano\"\n",
    "# specify the number of track in each song (should be the same, in same order, for each song)\n",
    "tracks = (0,)\n",
    "instru = instrument.Piano()\n",
    "\n",
    "notes = [[] for track in tracks]\n",
    "durations = [[] for track in tracks]\n",
    "for i, file in enumerate(os.listdir(directory)):\n",
    "    midi_part = converter.parse(os.path.join(directory, file))\n",
    "    # Parse the midi file by the notes/chords it contains\n",
    "    for track, _ in enumerate(tracks):\n",
    "        notes_to_parse = midi_part[tracks[track]].flat.notesAndRests\n",
    "        notes_to_parse = notes_to_parse.makeMeasures()\n",
    "        for mes in notes_to_parse.measures(0, None):\n",
    "            if isinstance(mes, stream.Measure):\n",
    "                mes = mes.chordify()\n",
    "                notes_mes_tab = []\n",
    "                durations_mes_tab = []\n",
    "                for elem in mes:    \n",
    "                    if isinstance(elem, note.Note):\n",
    "                        notes_mes_tab.append([str(elem.pitch)])\n",
    "                    elif isinstance(elem, chord.Chord):\n",
    "                        notes_mes_tab.append([str(n.nameWithOctave) for n in elem.pitches])\n",
    "                    elif isinstance(elem, note.Rest):\n",
    "                        notes_mes_tab.append([elem.name])\n",
    "                    durations_mes_tab.append(elem.quarterLength)\n",
    "                notes[track].append(notes_mes_tab)\n",
    "                durations[track].append(durations_mes_tab)\n",
    "    print(\"Song %s Loaded\" % file)\n",
    "print(\"DONE LOADING SONGS\") \n",
    "# Get all notes\n",
    "np_notes = [[] for track in tracks]\n",
    "for track, _ in enumerate(tracks):\n",
    "    for elem in notes[track]:\n",
    "        np_notes[track] += elem\n",
    "np_notes = [np.array(np_notes[track]) for track in tracks]\n",
    "np_notes = [np_notes[track].flatten() for track in tracks]\n",
    "notes_vocab = [[] for track in tracks]\n",
    "for track, _ in enumerate(tracks):\n",
    "    for item in np_notes[track]:\n",
    "        if len(item) > 1 and item != \"rest\":\n",
    "            notes_vocab[track].append(\",\".join([note for note in item]))\n",
    "        else:\n",
    "            notes_vocab[track].append(item[0])\n",
    "    notes_vocab[track] = sorted(set(notes_vocab[track]))\n",
    "# Get all durations\n",
    "np_durations = [[] for track in tracks]\n",
    "for track, _ in enumerate(tracks):\n",
    "    for elem in durations[track]:\n",
    "        np_durations[track] += elem\n",
    "durations_vocab = [[] for track in tracks]\n",
    "for track, _ in enumerate(tracks):\n",
    "    durations_vocab[track] = sorted(set(np.array(np_durations[track]).flatten()))\n",
    "\n",
    "for track, _ in enumerate(tracks):\n",
    "    print(\"%s Measures, notes_Vocab : %s ; durations_Vocab : %s\" % (len(notes[track]), len(notes_vocab[track]), len(durations_vocab[track])))\n",
    "print(notes_vocab, notes)\n",
    "print(durations_vocab, durations)"
   ]
  },
  {
   "cell_type": "code",
   "execution_count": null,
   "metadata": {},
   "outputs": [],
   "source": [
    "maxLen = 0\n",
    "for track, _ in enumerate(tracks):\n",
    "    currMax = max(len(elem) for elem in notes[track])\n",
    "    if currMax > maxLen:\n",
    "        maxLen = currMax\n",
    "for track, _ in enumerate(tracks):\n",
    "    currMax = max(len(elem) for elem in durations[track])\n",
    "    if currMax > maxLen:\n",
    "        maxLen = currMax\n",
    "        \n",
    "print(maxLen)"
   ]
  },
  {
   "cell_type": "code",
   "execution_count": null,
   "metadata": {
    "colab": {},
    "colab_type": "code",
    "id": "_j4yF0RMLLgz"
   },
   "outputs": [],
   "source": [
    "cat_notes = [[] for track in tracks]\n",
    "cat_durations = [[] for track in tracks]\n",
    "\n",
    "for track, _ in enumerate(tracks):\n",
    "    for mes in notes[track]:\n",
    "        cat_tab = []\n",
    "        for elem in mes:\n",
    "            int_note = notes_vocab[track].index(\",\".join(elem))\n",
    "            cat = np.zeros((len(notes_vocab[track])))\n",
    "            cat[int_note] = 1\n",
    "            cat_tab.append(cat)\n",
    "        while len(cat_tab) < maxLen:\n",
    "            cat_tab.append(np.zeros((len(notes_vocab[track]))))\n",
    "        cat_notes[track].append(cat_tab)\n",
    "    for mes in durations[track]:\n",
    "        cat_tab = []\n",
    "        for elem in mes:\n",
    "            int_duration = durations_vocab[track].index(elem)\n",
    "            cat = np.zeros((len(durations_vocab[track])))\n",
    "            cat[int_duration] = 1\n",
    "            cat_tab.append(cat)\n",
    "        while len(cat_tab) < maxLen:\n",
    "            cat_tab.append(np.zeros((len(durations_vocab[track]))))\n",
    "        cat_durations[track].append(cat_tab)\n",
    "# merge\n",
    "x = [cat_notes, cat_durations]"
   ]
  },
  {
   "cell_type": "code",
   "execution_count": null,
   "metadata": {},
   "outputs": [],
   "source": [
    "# Build generator"
   ]
  },
  {
   "cell_type": "code",
   "execution_count": null,
   "metadata": {
    "colab": {},
    "colab_type": "code",
    "id": "WmZ_xNJ8LLg2"
   },
   "outputs": [],
   "source": [
    "batch_size = 32\n",
    "#split = int(0.8 * len(x))\n",
    "\n",
    "class dataGenerator(Sequence):\n",
    "    def __init__(self, x, batch_size):\n",
    "        self.batch_size = batch_size\n",
    "        self.x = x\n",
    "    def __len__(self):\n",
    "        return len(self.x[0][0]) // self.batch_size - 1\n",
    "    def __getitem__(self, idx):\n",
    "        X_note = [[] for track in tracks]\n",
    "        X_duration = [[] for track in tracks]\n",
    "        Y_note = [[] for track in tracks]\n",
    "        Y_duration = [[] for track in tracks]\n",
    "        res = [[], []]\n",
    "        for track, _ in enumerate(tracks):\n",
    "            for i in range(self.batch_size):\n",
    "                X_note[track].append(self.x[0][track][idx + i])\n",
    "                X_duration[track].append(self.x[1][track][idx + i])\n",
    "                Y_note[track].append(self.x[0][track][idx + i + 1])\n",
    "                Y_duration[track].append(self.x[1][track][idx + i + 1])\n",
    "            X_note[track] = np.array(X_note[track])\n",
    "            X_duration[track] = np.array(X_duration[track])\n",
    "            Y_note[track] = np.array(Y_note[track])\n",
    "            Y_duration[track] = np.array(Y_duration[track])\n",
    "            res[0].append(X_note[track])\n",
    "            res[0].append(X_duration[track])\n",
    "            res[1].append(Y_note[track])\n",
    "            res[1].append(Y_duration[track])\n",
    "        return res\n",
    "data_gen = dataGenerator(x, batch_size)"
   ]
  },
  {
   "cell_type": "code",
   "execution_count": null,
   "metadata": {},
   "outputs": [],
   "source": [
    "data_gen[0][0][0].shape"
   ]
  },
  {
   "cell_type": "code",
   "execution_count": null,
   "metadata": {
    "colab": {},
    "colab_type": "code",
    "id": "XYje5xJuMGTo"
   },
   "outputs": [],
   "source": [
    "# Build Model"
   ]
  },
  {
   "cell_type": "code",
   "execution_count": null,
   "metadata": {
    "colab": {
     "base_uri": "https://localhost:8080/",
     "height": 425
    },
    "colab_type": "code",
    "executionInfo": {
     "elapsed": 2009,
     "status": "ok",
     "timestamp": 1564499885442,
     "user": {
      "displayName": "Eric Parisot",
      "photoUrl": "https://lh5.googleusercontent.com/-xh-35jiJukA/AAAAAAAAAAI/AAAAAAAAANk/DF6CloJb-Gg/s64/photo.jpg",
      "userId": "16194582336101501105"
     },
     "user_tz": -120
    },
    "id": "hc8twgnZLLg6",
    "outputId": "07fe11f3-d359-4ab4-ea44-7b67b2603c2f"
   },
   "outputs": [],
   "source": [
    "K.clear_session()\n",
    "\n",
    "inputs_list = []\n",
    "tracks_list = []\n",
    "outputs_list = []\n",
    "\n",
    "for track, _ in enumerate(tracks):\n",
    "    in_note = Input(shape=(maxLen, len(notes_vocab[track])))\n",
    "    inputs_list.append(in_note)\n",
    "    x1 = LSTM(64, return_sequences=True)(in_note)\n",
    "    tracks_list.append(x1)\n",
    "    in_duration = Input(shape=(maxLen, len(durations_vocab[track])))\n",
    "    inputs_list.append(in_duration)\n",
    "    x2 = LSTM(64, return_sequences=True)(in_duration)\n",
    "    tracks_list.append(x2)\n",
    "\n",
    "concat = Concatenate()(tracks_list)\n",
    "shared = TimeDistributed(Dense(64, activation='relu'))(concat)\n",
    "\n",
    "for track, _ in enumerate(tracks):\n",
    "    \n",
    "    out_note = Dense(len(notes_vocab[track]), activation='softmax')(shared)\n",
    "    outputs_list.append(out_note)\n",
    "    \n",
    "    out_duration = Dense(len(durations_vocab[track]), activation='softmax')(shared)\n",
    "    outputs_list.append(out_duration)\n",
    "\n",
    "model = Model(inputs=inputs_list, \n",
    "              outputs=outputs_list)\n",
    "model.compile(loss='categorical_crossentropy', optimizer='adam', metrics=['acc'])\n",
    "\n",
    "model.summary()"
   ]
  },
  {
   "cell_type": "code",
   "execution_count": null,
   "metadata": {
    "colab": {},
    "colab_type": "code",
    "id": "wc_QFB_VLLg9"
   },
   "outputs": [],
   "source": [
    "#save best model if model improved\n",
    "model_name = \"Piano_Mozart_Chopin_Batch_Beethoven_measured.h5\"\n",
    "best_checkpoint = keras.callbacks.ModelCheckpoint(model_name, monitor='val_loss', verbose=1, save_best_only=True, mode='min')"
   ]
  },
  {
   "cell_type": "code",
   "execution_count": null,
   "metadata": {
    "colab": {
     "base_uri": "https://localhost:8080/",
     "height": 803
    },
    "colab_type": "code",
    "executionInfo": {
     "elapsed": 249825,
     "status": "error",
     "timestamp": 1564500149292,
     "user": {
      "displayName": "Eric Parisot",
      "photoUrl": "https://lh5.googleusercontent.com/-xh-35jiJukA/AAAAAAAAAAI/AAAAAAAAANk/DF6CloJb-Gg/s64/photo.jpg",
      "userId": "16194582336101501105"
     },
     "user_tz": -120
    },
    "id": "QDXRHptiLLg_",
    "outputId": "29296ee2-1457-4ff7-8353-85fa7877c1bc",
    "scrolled": true
   },
   "outputs": [],
   "source": [
    "h = model.fit_generator(data_gen, epochs = 100, callbacks=[best_checkpoint])"
   ]
  },
  {
   "cell_type": "code",
   "execution_count": null,
   "metadata": {
    "colab": {},
    "colab_type": "code",
    "id": "b7R9OyOnLLhB"
   },
   "outputs": [],
   "source": [
    "#print History graph\n",
    "historydf = pd.DataFrame(h.history, index=h.epoch)\n",
    "historydf.plot(ylim=(0,1))"
   ]
  },
  {
   "cell_type": "code",
   "execution_count": null,
   "metadata": {
    "colab": {},
    "colab_type": "code",
    "id": "5qjTHsLxMGT1"
   },
   "outputs": [],
   "source": [
    "# Load / save"
   ]
  },
  {
   "cell_type": "code",
   "execution_count": null,
   "metadata": {
    "colab": {},
    "colab_type": "code",
    "id": "thHFJm8ALLhE"
   },
   "outputs": [],
   "source": [
    "model_name = \"Piano_Mozart_Chopin_Batch_Beethoven_measured.h5\"\n",
    "model.save(model_name)\n",
    "#model = load_model(model_name)"
   ]
  },
  {
   "cell_type": "code",
   "execution_count": null,
   "metadata": {},
   "outputs": [],
   "source": [
    "# Test"
   ]
  },
  {
   "cell_type": "code",
   "execution_count": null,
   "metadata": {
    "colab": {
     "base_uri": "https://localhost:8080/",
     "height": 54
    },
    "colab_type": "code",
    "executionInfo": {
     "elapsed": 417,
     "status": "ok",
     "timestamp": 1564507744674,
     "user": {
      "displayName": "Eric Parisot",
      "photoUrl": "https://lh5.googleusercontent.com/-xh-35jiJukA/AAAAAAAAAAI/AAAAAAAAANk/DF6CloJb-Gg/s64/photo.jpg",
      "userId": "16194582336101501105"
     },
     "user_tz": -120
    },
    "id": "XElAlejrLLhF",
    "outputId": "1d17e8b4-7fd4-4a64-f35a-aafed6c1b582"
   },
   "outputs": [],
   "source": [
    "# Build seed\n",
    "idx = 42\n",
    "x_test, _ = data_gen[idx]\n",
    "x_test = [x_test[i][0] for i in range(len(x_test))]\n",
    "x_test_stream = [stream.Stream() for track in tracks]\n",
    "\n",
    "for track, _ in enumerate(tracks):\n",
    "    for i in range(seq_len):\n",
    "        if x_test[2*track][i] != np.zeros((len(x_test[2*track][i]))):\n",
    "            str_note = notes_vocab[track][np.argmax(x_test[2*track][i])]\n",
    "            duration = durations_vocab[track][np.argmax(x_test[2*track+1][i])]\n",
    "            if len(str_note.split(\",\")) > 1:\n",
    "                _chord = chord.Chord(str_note.split(\",\"))\n",
    "                _chord.quarterLength = duration\n",
    "                x_test_stream[track].append(_chord)\n",
    "            else:\n",
    "                if str_note != \"rest\":\n",
    "                    _note = note.Note(str_note)\n",
    "                    _note.quarterLength = duration\n",
    "                    x_test_stream[track].append(_note)\n",
    "                else:\n",
    "                    _rest = note.Rest()\n",
    "                    _rest.quarterLength = duration\n",
    "                    x_test_stream[track].append(_rest)\n",
    "    x_test_stream[track].insert(0, instru)"
   ]
  },
  {
   "cell_type": "code",
   "execution_count": null,
   "metadata": {
    "colab": {
     "base_uri": "https://localhost:8080/",
     "height": 54
    },
    "colab_type": "code",
    "executionInfo": {
     "elapsed": 751,
     "status": "ok",
     "timestamp": 1564507745794,
     "user": {
      "displayName": "Eric Parisot",
      "photoUrl": "https://lh5.googleusercontent.com/-xh-35jiJukA/AAAAAAAAAAI/AAAAAAAAANk/DF6CloJb-Gg/s64/photo.jpg",
      "userId": "16194582336101501105"
     },
     "user_tz": -120
    },
    "id": "xxsbyCVHLLhI",
    "outputId": "28b9aa67-8e59-4c49-f4d2-f59ef5f45c14"
   },
   "outputs": [],
   "source": [
    "# make seq_len predictions from seed\n",
    "#preds = [[] for track in tracks]\n",
    "x = x_test\n",
    "\n",
    "for _ in range(seq_len*2):\n",
    "    pred = model.predict([np.array([x[i]]) for i in range(len(x))])\n",
    "    \"\"\"_note = [pred[i] for i in range(0, len(pred), 2)]\n",
    "    _duration = [pred[i] for i in range(1, len(pred), 2)]\n",
    "    for track, _ in enumerate(tracks):\n",
    "        cat_note = np.zeros((len(notes_vocab[track])))\n",
    "        _note[track] = np.argmax(_note[track])\n",
    "        cat_note[_note[track]] = 1\n",
    "        cat_duration = np.zeros((len(durations_vocab[track])))\n",
    "        _duration[track] = np.argmax(_duration[track])\n",
    "        cat_duration[_duration[track]] = 1\n",
    "        x[2*track] = x[2*track][1:]\n",
    "        x[2*track] = list(x[2*track]) + [cat_note]\n",
    "        x[2*track+1] = x[2*track+1][1:]\n",
    "        x[2*track+1] = list(x[2*track+1]) + [cat_duration]\n",
    "        preds[track].append((cat_note, cat_duration))\"\"\""
   ]
  },
  {
   "cell_type": "code",
   "execution_count": null,
   "metadata": {
    "colab": {},
    "colab_type": "code",
    "id": "yNYDP3MXLLhL"
   },
   "outputs": [],
   "source": [
    "# Build predicted stream\n",
    "y_test_stream = [stream.Stream() for track in tracks]\n",
    "\n",
    "for track, _ in enumerate(tracks):\n",
    "    for i in range(len(pred[track])):\n",
    "        if x_test[2*track][i] != np.zeros((len(x_test[2*track][i]))):\n",
    "            str_note = notes_vocab[track][np.argmax(pred[track][i][0])]\n",
    "            duration = durations_vocab[track][np.argmax(pred[track][i][1])]\n",
    "            if len(str_note.split(\",\")) > 1:\n",
    "                _chord = chord.Chord(str_note.split(\",\"))\n",
    "                _chord.quarterLength = duration\n",
    "                y_test_stream[track].append(_chord)\n",
    "            else:\n",
    "                if str_note != \"rest\":\n",
    "                    _note = note.Note(str_note)\n",
    "                    _note.quarterLength = duration\n",
    "                    y_test_stream[track].append(_note)\n",
    "                else:\n",
    "                    _rest = note.Rest()\n",
    "                    _rest.quarterLength = duration\n",
    "                    y_test_stream[track].append(_rest)\n",
    "    y_test_stream[track].insert(0, instru)"
   ]
  },
  {
   "cell_type": "code",
   "execution_count": null,
   "metadata": {
    "colab": {},
    "colab_type": "code",
    "id": "CTiXKq9VLLhS"
   },
   "outputs": [],
   "source": [
    "# play seed\n",
    "x_full_score = stream.Score()\n",
    "for track, _ in enumerate(tracks):\n",
    "    p = stream.Part()\n",
    "    p.append(x_test_stream[track])\n",
    "    x_full_score.insert(0, p)\n",
    "x_full_score.makeMeasures()#.show('musicxml')\n",
    "x_full_score.chordify()\n",
    "x_full_score.write(\"midi\", \"x_test.mid\")\n",
    "sp = midi.realtime.StreamPlayer(x_full_score)\n",
    "sp.play()"
   ]
  },
  {
   "cell_type": "code",
   "execution_count": null,
   "metadata": {
    "colab": {},
    "colab_type": "code",
    "id": "gB8ZDiLXLLhU"
   },
   "outputs": [],
   "source": [
    "# play generated music\n",
    "y_full_score = stream.Score()\n",
    "for track, _ in enumerate(tracks):\n",
    "    p = stream.Part()\n",
    "    p.append(y_test_stream[track])\n",
    "    y_full_score.insert(0, p)\n",
    "y_full_score.makeMeasures()#.show('musicxml')\n",
    "y_full_score.chordify()\n",
    "y_full_score.write(\"midi\", \"x_test.mid\")\n",
    "sp = midi.realtime.StreamPlayer(y_full_score)\n",
    "sp.play()"
   ]
  },
  {
   "cell_type": "code",
   "execution_count": null,
   "metadata": {
    "colab": {},
    "colab_type": "code",
    "id": "7776PjLFMpWD"
   },
   "outputs": [],
   "source": []
  }
 ],
 "metadata": {
  "accelerator": "TPU",
  "colab": {
   "collapsed_sections": [],
   "name": "LSTM_Midi_Generator.ipynb",
   "provenance": [],
   "version": "0.3.2"
  },
  "kernelspec": {
   "display_name": "Python 3",
   "language": "python",
   "name": "python3"
  },
  "language_info": {
   "codemirror_mode": {
    "name": "ipython",
    "version": 3
   },
   "file_extension": ".py",
   "mimetype": "text/x-python",
   "name": "python",
   "nbconvert_exporter": "python",
   "pygments_lexer": "ipython3",
   "version": "3.7.3"
  }
 },
 "nbformat": 4,
 "nbformat_minor": 1
}
