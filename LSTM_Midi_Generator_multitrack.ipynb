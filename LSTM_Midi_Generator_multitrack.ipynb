{
 "cells": [
  {
   "cell_type": "code",
   "execution_count": null,
   "metadata": {
    "colab": {
     "base_uri": "https://localhost:8080/",
     "height": 139
    },
    "colab_type": "code",
    "executionInfo": {
     "elapsed": 8326,
     "status": "ok",
     "timestamp": 1564498145468,
     "user": {
      "displayName": "Eric Parisot",
      "photoUrl": "https://lh5.googleusercontent.com/-xh-35jiJukA/AAAAAAAAAAI/AAAAAAAAANk/DF6CloJb-Gg/s64/photo.jpg",
      "userId": "16194582336101501105"
     },
     "user_tz": -120
    },
    "id": "0JTaEZ99LLgp",
    "outputId": "50e8cc12-9b78-4db6-9d24-48038338ee01",
    "scrolled": false
   },
   "outputs": [],
   "source": [
    "import os\n",
    "import numpy as np\n",
    "import pandas as pd\n",
    "from collections import deque\n",
    "\n",
    "!pip install music21\n",
    "!pip install pygame\n",
    "\n",
    "from music21 import converter, instrument, note, chord, bar, midi, stream, meter\n",
    "\n",
    "from keras.models import Model, Sequential\n",
    "from keras.layers import *\n",
    "from keras.models import load_model\n",
    "import keras.backend as K\n",
    "import keras.callbacks\n",
    "from keras.utils import Sequence\n",
    "from keras.utils import to_categorical\n",
    "from keras.preprocessing.sequence import TimeseriesGenerator"
   ]
  },
  {
   "cell_type": "code",
   "execution_count": null,
   "metadata": {
    "colab": {},
    "colab_type": "code",
    "id": "gDE6l8ClLLgv"
   },
   "outputs": [],
   "source": [
    "# grab / parse data"
   ]
  },
  {
   "cell_type": "code",
   "execution_count": null,
   "metadata": {
    "colab": {
     "base_uri": "https://localhost:8080/",
     "height": 445
    },
    "colab_type": "code",
    "executionInfo": {
     "elapsed": 2511,
     "status": "ok",
     "timestamp": 1564504348343,
     "user": {
      "displayName": "Eric Parisot",
      "photoUrl": "https://lh5.googleusercontent.com/-xh-35jiJukA/AAAAAAAAAAI/AAAAAAAAANk/DF6CloJb-Gg/s64/photo.jpg",
      "userId": "16194582336101501105"
     },
     "user_tz": -120
    },
    "id": "QyjBEpCULLgw",
    "outputId": "24a1a45a-6745-45e2-c105-9491309b0cd2"
   },
   "outputs": [],
   "source": [
    "midi_directory = \"midi/Piano_small\"\n",
    "# specify the number of track in each song (should be the same, in same order, for each song)\n",
    "tracks = (0,)\n",
    "instru = instrument.Piano()\n",
    "\n",
    "notes = [[] for track in tracks]\n",
    "durations = [[] for track in tracks]\n",
    "offsets = [[] for track in tracks]\n",
    "velocities = [[] for track in tracks]\n",
    "for i, file in enumerate(os.listdir(midi_directory)):\n",
    "    midi_part = converter.parse(os.path.join(midi_directory, file))\n",
    "    # Parse the midi file by the notes/chords it contains\n",
    "    for track, _ in enumerate(tracks):\n",
    "        notes_to_parse = midi_part[tracks[track]].flat.notesAndRests\n",
    "        last_offset = 0\n",
    "        for elem in notes_to_parse:\n",
    "            if isinstance(elem, note.Note):\n",
    "                notes[track].append([str(elem.pitch)])\n",
    "                durations[track].append(elem.quarterLength)\n",
    "                offsets[track].append(elem.offset - last_offset)\n",
    "                velocities[track].append(elem.volume.velocity)\n",
    "            elif isinstance(elem, chord.Chord):\n",
    "                notes[track].append([str(n.nameWithOctave) for n in elem.pitches])\n",
    "                durations[track].append(elem.quarterLength)\n",
    "                offsets[track].append(elem.offset - last_offset)\n",
    "                velocities[track].append(elem.volume.velocity)\n",
    "            elif isinstance(elem, note.Rest):\n",
    "                notes[track].append([elem.name])\n",
    "                durations[track].append(elem.quarterLength)\n",
    "                offsets[track].append(elem.offset - last_offset)\n",
    "                velocities[track].append(0)\n",
    "            last_offset = elem.offset\n",
    "    print(\"Song %s Loaded\" % file)\n",
    "print(\"DONE LOADING SONGS\") \n",
    "# Get all notes\n",
    "np_notes = [np.array(notes[track]) for track, _ in enumerate(tracks)]\n",
    "#np_notes = [np_notes[track].flatten() for track in tracks]\n",
    "notes_vocab = [[] for track in tracks]\n",
    "for track, _ in enumerate(tracks):\n",
    "    for item in np_notes[track]:\n",
    "        if len(item) > 1 and item != \"rest\":\n",
    "            notes_vocab[track].append(\",\".join([note for note in item]))\n",
    "        else:\n",
    "            notes_vocab[track].append(item[0])\n",
    "    notes_vocab[track] = sorted(set(notes_vocab[track]))\n",
    "# Get all durations\n",
    "durations_vocab = [[] for track in tracks]\n",
    "for track, _ in enumerate(tracks):\n",
    "    durations_vocab[track] = sorted(set(durations[track]))\n",
    "# Get all offsets\n",
    "offsets_vocab = [[] for track in tracks]\n",
    "for track, _ in enumerate(tracks):\n",
    "    offsets_vocab[track] = sorted(set(offsets[track]))\n",
    "# Get all velocities\n",
    "velocities_vocab = [[] for track in tracks]\n",
    "for track, _ in enumerate(tracks):\n",
    "    velocities_vocab[track] = sorted(set(velocities[track]))\n",
    "    \n",
    "for track, _ in enumerate(tracks):\n",
    "    print(\"%s Notes, notes_Vocab : %s ; durations_Vocab : %s ; offsets_vocab : %s ; velocities_vocab : %s\" % \n",
    "          (len(notes[track]), len(notes_vocab[track]), len(durations_vocab[track]), len(offsets_vocab[track]), len(velocities_vocab[track])))\n",
    "print(notes_vocab, notes)\n",
    "print(durations_vocab, durations)\n",
    "print(offsets_vocab, offsets)\n",
    "print(velocities_vocab, velocities)"
   ]
  },
  {
   "cell_type": "code",
   "execution_count": null,
   "metadata": {},
   "outputs": [],
   "source": [
    "# Save vocab to file"
   ]
  },
  {
   "cell_type": "code",
   "execution_count": null,
   "metadata": {},
   "outputs": [],
   "source": [
    "np.save(\"vocab.npy\", np.array([notes_vocab, durations_vocab, offsets_vocab, velocities_vocab]))"
   ]
  },
  {
   "cell_type": "code",
   "execution_count": null,
   "metadata": {},
   "outputs": [],
   "source": [
    "# turn notes to integers:"
   ]
  },
  {
   "cell_type": "code",
   "execution_count": null,
   "metadata": {
    "colab": {},
    "colab_type": "code",
    "id": "_j4yF0RMLLgz"
   },
   "outputs": [],
   "source": [
    "cat_notes = [[] for track in tracks]\n",
    "cat_durations = [[] for track in tracks]\n",
    "cat_offsets = [[] for track in tracks]\n",
    "cat_velocities = [[] for track in tracks]\n",
    "for track, _ in enumerate(tracks):\n",
    "    for elem in notes[track]:\n",
    "        int_note = notes_vocab[track].index(\",\".join(elem))\n",
    "        cat = np.zeros((len(notes_vocab[track])))\n",
    "        cat[int_note] = 1\n",
    "        cat_notes[track].append(cat)\n",
    "    for elem in durations[track]:\n",
    "        int_duration = durations_vocab[track].index(elem)\n",
    "        cat = np.zeros((len(durations_vocab[track])))\n",
    "        cat[int_duration] = 1\n",
    "        cat_durations[track].append(cat)\n",
    "    for elem in offsets[track]:\n",
    "        int_offset = offsets_vocab[track].index(elem)\n",
    "        cat = np.zeros((len(offsets_vocab[track])))\n",
    "        cat[int_offset] = 1\n",
    "        cat_offsets[track].append(cat)\n",
    "    for elem in velocities[track]:\n",
    "        int_velocity = velocities_vocab[track].index(elem)\n",
    "        cat = np.zeros((len(velocities_vocab[track])))\n",
    "        cat[int_velocity] = 1\n",
    "        cat_velocities[track].append(cat)\n",
    "# merge\n",
    "x = [cat_notes, cat_durations, cat_offsets, cat_velocities]"
   ]
  },
  {
   "cell_type": "code",
   "execution_count": null,
   "metadata": {},
   "outputs": [],
   "source": [
    "print([len(x[0][i]) for i, _ in enumerate(tracks)])"
   ]
  },
  {
   "cell_type": "code",
   "execution_count": null,
   "metadata": {},
   "outputs": [],
   "source": [
    "# Build generator"
   ]
  },
  {
   "cell_type": "code",
   "execution_count": null,
   "metadata": {
    "colab": {},
    "colab_type": "code",
    "id": "WmZ_xNJ8LLg2"
   },
   "outputs": [],
   "source": [
    "seq_len = 32\n",
    "batch_size = 32\n",
    "#split = int(0.8 * len(x))\n",
    "\n",
    "class dataGenerator(Sequence):\n",
    "    def __init__(self, x, batch_size):\n",
    "        self.batch_size = batch_size\n",
    "        self.x = x\n",
    "        \n",
    "    def __len__(self):\n",
    "        return min([len(self.x[0][i]) for i, _ in enumerate(tracks)]) // self.batch_size - 1\n",
    "    \n",
    "    def __getitem__(self, idx):\n",
    "        X_note = [[] for track in tracks]\n",
    "        X_duration = [[] for track in tracks]\n",
    "        X_offset = [[] for track in tracks]\n",
    "        X_velocity = [[] for track in tracks]\n",
    "        \n",
    "        Y_note = [[] for track in tracks]\n",
    "        Y_duration = [[] for track in tracks]\n",
    "        Y_offset = [[] for track in tracks]\n",
    "        Y_velocity = [[] for track in tracks]\n",
    "        \n",
    "        res = [[], []]\n",
    "        for track, _ in enumerate(tracks):\n",
    "            for i in range(self.batch_size):\n",
    "                \n",
    "                X_note[track].append(self.x[0][track][idx+i : idx+i + seq_len])\n",
    "                X_duration[track].append(self.x[1][track][idx+i : idx+i + seq_len])\n",
    "                X_offset[track].append(self.x[2][track][idx+i : idx+i + seq_len])\n",
    "                X_velocity[track].append(self.x[3][track][idx+i : idx+i + seq_len])\n",
    "                \n",
    "                Y_note[track].append(self.x[0][track][idx+i + seq_len])\n",
    "                Y_duration[track].append(self.x[1][track][idx+i + seq_len])\n",
    "                Y_offset[track].append(self.x[2][track][idx+i + seq_len])\n",
    "                Y_velocity[track].append(self.x[3][track][idx+i + seq_len])\n",
    "            \n",
    "            X_note[track] = np.array(X_note[track])\n",
    "            X_duration[track] = np.array(X_duration[track])\n",
    "            X_offset[track] = np.array(X_offset[track])\n",
    "            X_velocity[track] = np.array(X_velocity[track])\n",
    "            \n",
    "            Y_note[track] = np.array(Y_note[track])\n",
    "            Y_duration[track] = np.array(Y_duration[track])\n",
    "            Y_offset[track] = np.array(Y_offset[track])\n",
    "            Y_velocity[track] = np.array(Y_velocity[track])\n",
    "            \n",
    "            res[0].append(X_note[track])\n",
    "            res[0].append(X_duration[track])\n",
    "            res[0].append(X_offset[track])\n",
    "            res[0].append(X_velocity[track])\n",
    "            \n",
    "            res[1].append(Y_note[track])\n",
    "            res[1].append(Y_duration[track])\n",
    "            res[1].append(Y_offset[track])\n",
    "            res[1].append(Y_velocity[track])\n",
    "            \n",
    "        return res\n",
    "data_gen = dataGenerator(x, batch_size)"
   ]
  },
  {
   "cell_type": "code",
   "execution_count": null,
   "metadata": {},
   "outputs": [],
   "source": [
    "data_gen[0][0][0].shape"
   ]
  },
  {
   "cell_type": "code",
   "execution_count": null,
   "metadata": {
    "colab": {},
    "colab_type": "code",
    "id": "XYje5xJuMGTo"
   },
   "outputs": [],
   "source": [
    "# Build Model"
   ]
  },
  {
   "cell_type": "code",
   "execution_count": null,
   "metadata": {
    "colab": {
     "base_uri": "https://localhost:8080/",
     "height": 425
    },
    "colab_type": "code",
    "executionInfo": {
     "elapsed": 2009,
     "status": "ok",
     "timestamp": 1564499885442,
     "user": {
      "displayName": "Eric Parisot",
      "photoUrl": "https://lh5.googleusercontent.com/-xh-35jiJukA/AAAAAAAAAAI/AAAAAAAAANk/DF6CloJb-Gg/s64/photo.jpg",
      "userId": "16194582336101501105"
     },
     "user_tz": -120
    },
    "id": "hc8twgnZLLg6",
    "outputId": "07fe11f3-d359-4ab4-ea44-7b67b2603c2f",
    "scrolled": true
   },
   "outputs": [],
   "source": [
    "K.clear_session()\n",
    "\n",
    "inputs_list = []\n",
    "tracks_list = []\n",
    "outputs_list = []\n",
    "\n",
    "for track, _ in enumerate(tracks):\n",
    "    in_note = Input(shape=(seq_len, len(notes_vocab[track])))\n",
    "    inputs_list.append(in_note)\n",
    "    x1 = LSTM(64, return_sequences=True)(in_note)\n",
    "    x1 = Bidirectional(LSTM(32))(x1)\n",
    "    x1 = Dropout(0.3)(x1)\n",
    "    tracks_list.append(x1)\n",
    "    \n",
    "    in_duration = Input(shape=(seq_len, len(durations_vocab[track])))\n",
    "    inputs_list.append(in_duration)\n",
    "    x2 = LSTM(64, return_sequences=True)(in_duration)\n",
    "    x2 = Bidirectional(LSTM(32))(x2)\n",
    "    x2 = Dropout(0.3)(x2)\n",
    "    tracks_list.append(x2)\n",
    "\n",
    "    in_offset = Input(shape=(seq_len, len(offsets_vocab[track])))\n",
    "    inputs_list.append(in_offset)\n",
    "    x3 = LSTM(64, return_sequences=True)(in_offset)\n",
    "    x3 = Bidirectional(LSTM(32))(x3)\n",
    "    x3 = Dropout(0.3)(x3)\n",
    "    tracks_list.append(x3)\n",
    "    \n",
    "    in_velocity = Input(shape=(seq_len, len(velocities_vocab[track])))\n",
    "    inputs_list.append(in_velocity)\n",
    "    x4 = LSTM(64, return_sequences=True)(in_velocity)\n",
    "    x4 = Bidirectional(LSTM(32))(x4)\n",
    "    x4 = Dropout(0.3)(x4)\n",
    "    tracks_list.append(x4)\n",
    "\n",
    "concat = Concatenate()(tracks_list)\n",
    "shared = Dense(64, activation='relu')(concat)\n",
    "shared = Dense(32, activation='relu')(shared)\n",
    "\n",
    "for track, _ in enumerate(tracks):\n",
    "    out_note = Dense(len(notes_vocab[track]), activation='softmax')(shared)\n",
    "    outputs_list.append(out_note)\n",
    "    \n",
    "    out_duration = Dense(len(durations_vocab[track]), activation='softmax')(shared)\n",
    "    outputs_list.append(out_duration)\n",
    "    \n",
    "    out_offset = Dense(len(offsets_vocab[track]), activation='softmax')(shared)\n",
    "    outputs_list.append(out_offset)\n",
    "    \n",
    "    out_velocity = Dense(len(velocities_vocab[track]), activation='softmax')(shared)\n",
    "    outputs_list.append(out_velocity)\n",
    "\n",
    "model = Model(inputs=inputs_list, \n",
    "              outputs=outputs_list)\n",
    "model.compile(loss='categorical_crossentropy', optimizer='adam', metrics=['acc'])\n",
    "\n",
    "model.summary()"
   ]
  },
  {
   "cell_type": "code",
   "execution_count": null,
   "metadata": {
    "colab": {},
    "colab_type": "code",
    "id": "wc_QFB_VLLg9"
   },
   "outputs": [],
   "source": [
    "#save best model if model improved\n",
    "model_name = \"Piano.h5\"\n",
    "best_checkpoint = keras.callbacks.ModelCheckpoint(os.path.join(\"weight_save\", model_name), monitor='val_loss', verbose=1, save_best_only=True, mode='min')"
   ]
  },
  {
   "cell_type": "code",
   "execution_count": null,
   "metadata": {
    "colab": {
     "base_uri": "https://localhost:8080/",
     "height": 803
    },
    "colab_type": "code",
    "executionInfo": {
     "elapsed": 249825,
     "status": "error",
     "timestamp": 1564500149292,
     "user": {
      "displayName": "Eric Parisot",
      "photoUrl": "https://lh5.googleusercontent.com/-xh-35jiJukA/AAAAAAAAAAI/AAAAAAAAANk/DF6CloJb-Gg/s64/photo.jpg",
      "userId": "16194582336101501105"
     },
     "user_tz": -120
    },
    "id": "QDXRHptiLLg_",
    "outputId": "29296ee2-1457-4ff7-8353-85fa7877c1bc",
    "scrolled": true
   },
   "outputs": [],
   "source": [
    "h = model.fit_generator(data_gen, epochs = 15, callbacks=[best_checkpoint])"
   ]
  },
  {
   "cell_type": "code",
   "execution_count": null,
   "metadata": {
    "colab": {},
    "colab_type": "code",
    "id": "b7R9OyOnLLhB"
   },
   "outputs": [],
   "source": [
    "#print History graph\n",
    "historydf = pd.DataFrame(h.history, index=h.epoch)\n",
    "historydf.plot(ylim=(0,1))"
   ]
  },
  {
   "cell_type": "code",
   "execution_count": null,
   "metadata": {
    "colab": {},
    "colab_type": "code",
    "id": "5qjTHsLxMGT1"
   },
   "outputs": [],
   "source": [
    "# Load / save"
   ]
  },
  {
   "cell_type": "code",
   "execution_count": null,
   "metadata": {
    "colab": {},
    "colab_type": "code",
    "id": "thHFJm8ALLhE"
   },
   "outputs": [],
   "source": [
    "#model.save(os.path.join(\"weight_save\", model_name))\n",
    "model = load_model(os.path.join(\"weight_save\", model_name))"
   ]
  },
  {
   "cell_type": "code",
   "execution_count": null,
   "metadata": {},
   "outputs": [],
   "source": [
    "# Test"
   ]
  },
  {
   "cell_type": "code",
   "execution_count": null,
   "metadata": {
    "colab": {
     "base_uri": "https://localhost:8080/",
     "height": 54
    },
    "colab_type": "code",
    "executionInfo": {
     "elapsed": 417,
     "status": "ok",
     "timestamp": 1564507744674,
     "user": {
      "displayName": "Eric Parisot",
      "photoUrl": "https://lh5.googleusercontent.com/-xh-35jiJukA/AAAAAAAAAAI/AAAAAAAAANk/DF6CloJb-Gg/s64/photo.jpg",
      "userId": "16194582336101501105"
     },
     "user_tz": -120
    },
    "id": "XElAlejrLLhF",
    "outputId": "1d17e8b4-7fd4-4a64-f35a-aafed6c1b582"
   },
   "outputs": [],
   "source": [
    "# Build seed\n",
    "idx = 87\n",
    "x_test, _ = data_gen[idx]\n",
    "x_test = [x_test[i][0] for i in range(len(x_test))]\n",
    "x_test_stream = [stream.Stream() for track in tracks]\n",
    "\n",
    "for track, _ in enumerate(tracks):\n",
    "    for i in range(len(x_test[0])):\n",
    "        str_note = notes_vocab[track][np.argmax(x_test[4*track][i])]\n",
    "        _duration = durations_vocab[track][np.argmax(x_test[4*track+1][i])]\n",
    "        _offset = offsets_vocab[track][np.argmax(x_test[4*track+2][i])]\n",
    "        _velocity = velocities_vocab[track][np.argmax(x_test[4*track+3][i])]\n",
    "        if len(str_note.split(\",\")) > 1:\n",
    "            _chord = chord.Chord(str_note.split(\",\"))\n",
    "            _chord.quarterLength = _duration\n",
    "            _chord.offset = _offset\n",
    "            _chord.volume.velocity = _velocity\n",
    "            x_test_stream[track].append(_chord)\n",
    "        else:\n",
    "            if str_note != \"rest\":\n",
    "                _note = note.Note(str_note)\n",
    "                _note.quarterLength = _duration\n",
    "                _note.offset = _offset\n",
    "                _note.volume.velocity = _velocity\n",
    "                x_test_stream[track].append(_note)\n",
    "            else:\n",
    "                _rest = note.Rest()\n",
    "                _rest.quarterLength = _duration\n",
    "                _rest.offset = _offset\n",
    "                x_test_stream[track].append(_rest)\n",
    "    x_test_stream[track].insert(0, instru)"
   ]
  },
  {
   "cell_type": "code",
   "execution_count": null,
   "metadata": {
    "colab": {
     "base_uri": "https://localhost:8080/",
     "height": 54
    },
    "colab_type": "code",
    "executionInfo": {
     "elapsed": 751,
     "status": "ok",
     "timestamp": 1564507745794,
     "user": {
      "displayName": "Eric Parisot",
      "photoUrl": "https://lh5.googleusercontent.com/-xh-35jiJukA/AAAAAAAAAAI/AAAAAAAAANk/DF6CloJb-Gg/s64/photo.jpg",
      "userId": "16194582336101501105"
     },
     "user_tz": -120
    },
    "id": "xxsbyCVHLLhI",
    "outputId": "28b9aa67-8e59-4c49-f4d2-f59ef5f45c14"
   },
   "outputs": [],
   "source": [
    "# make seq_len predictions from seed\n",
    "preds = [[] for track in tracks]\n",
    "x = x_test\n",
    "\n",
    "for _ in range(seq_len*8):\n",
    "    pred = model.predict([np.array([x[i]]) for i in range(len(x))])\n",
    "    _note = [pred[i] for i in range(0, len(pred), 4)]\n",
    "    _duration = [pred[i] for i in range(1, len(pred), 4)]\n",
    "    _offset = [pred[i] for i in range(2, len(pred), 4)]\n",
    "    _velocity = [pred[i] for i in range(3, len(pred), 4)]\n",
    "    for track, _ in enumerate(tracks):\n",
    "        cat_note = np.zeros((len(notes_vocab[track])))\n",
    "        _note[track] = np.argmax(_note[track])\n",
    "        cat_note[_note[track]] = 1\n",
    "        cat_duration = np.zeros((len(durations_vocab[track])))\n",
    "        _duration[track] = np.argmax(_duration[track])\n",
    "        cat_duration[_duration[track]] = 1\n",
    "        cat_offset = np.zeros((len(offsets_vocab[track])))\n",
    "        _offset[track] = np.argmax(_offset[track])\n",
    "        cat_offset[_offset[track]] = 1\n",
    "        cat_velocity = np.zeros((len(velocities_vocab[track])))\n",
    "        _velocity[track] = np.argmax(_velocity[track])\n",
    "        cat_velocity[_velocity[track]] = 1\n",
    "        \n",
    "        x[4*track] = x[4*track][1:]\n",
    "        x[4*track] = list(x[4*track]) + [cat_note]\n",
    "        \n",
    "        x[4*track+1] = x[4*track+1][1:]\n",
    "        x[4*track+1] = list(x[4*track+1]) + [cat_duration]\n",
    "        \n",
    "        x[4*track+2] = x[4*track+2][1:]\n",
    "        x[4*track+2] = list(x[4*track+2]) + [cat_offset]\n",
    "        \n",
    "        x[4*track+3] = x[4*track+3][1:]\n",
    "        x[4*track+3] = list(x[4*track+3]) + [cat_velocity]\n",
    "        \n",
    "        preds[track].append((cat_note, cat_duration, cat_offset, cat_velocity))"
   ]
  },
  {
   "cell_type": "code",
   "execution_count": null,
   "metadata": {
    "colab": {},
    "colab_type": "code",
    "id": "yNYDP3MXLLhL"
   },
   "outputs": [],
   "source": [
    "# Build predicted stream\n",
    "y_test_stream = [stream.Stream() for track in tracks]\n",
    "\n",
    "for track, _ in enumerate(tracks):\n",
    "    for i in range(len(preds[track])):\n",
    "        str_note = notes_vocab[track][np.argmax(preds[track][i][0])]\n",
    "        _duration = durations_vocab[track][np.argmax(preds[track][i][1])]\n",
    "        _offset = offsets_vocab[track][np.argmax(preds[track][i][2])]\n",
    "        _velocity = velocities_vocab[track][np.argmax(preds[track][i][3])]\n",
    "        \n",
    "        if len(str_note.split(\",\")) > 1:\n",
    "            _chord = chord.Chord(str_note.split(\",\"))\n",
    "            _chord.quarterLength = _duration\n",
    "            _chord.offset = _offset\n",
    "            _chord.volume.velocity = _velocity\n",
    "            y_test_stream[track].append(_chord)\n",
    "        else:\n",
    "            if str_note != \"rest\":\n",
    "                _note = note.Note(str_note)\n",
    "                _note.quarterLength = _duration\n",
    "                _note.offset = _offset\n",
    "                _note.volume.velocity = _velocity\n",
    "                y_test_stream[track].append(_note)\n",
    "            else:\n",
    "                _rest = note.Rest()\n",
    "                _rest.quarterLength = _duration\n",
    "                _rest.offset = _offset\n",
    "                y_test_stream[track].append(_rest)\n",
    "    y_test_stream[track].insert(0, instru)"
   ]
  },
  {
   "cell_type": "code",
   "execution_count": null,
   "metadata": {
    "colab": {},
    "colab_type": "code",
    "id": "CTiXKq9VLLhS"
   },
   "outputs": [],
   "source": [
    "# play seed\n",
    "x_full_score = stream.Score()\n",
    "for track, _ in enumerate(tracks):\n",
    "    p = stream.Part()\n",
    "    p.append(x_test_stream[track])\n",
    "    x_full_score.insert(0, p)\n",
    "x_full_score.write(\"midi\", \"x_test.mid\")\n",
    "sp = midi.realtime.StreamPlayer(x_full_score)\n",
    "sp.play()"
   ]
  },
  {
   "cell_type": "code",
   "execution_count": null,
   "metadata": {
    "colab": {},
    "colab_type": "code",
    "id": "gB8ZDiLXLLhU"
   },
   "outputs": [],
   "source": [
    "# play generated music\n",
    "y_full_score = stream.Score()\n",
    "for track, _ in enumerate(tracks):\n",
    "    p = stream.Part()\n",
    "    p.append(y_test_stream[track])\n",
    "    y_full_score.insert(0, p)\n",
    "y_full_score.write(\"midi\", \"y_test.mid\")\n",
    "sp = midi.realtime.StreamPlayer(y_full_score)\n",
    "sp.play()"
   ]
  },
  {
   "cell_type": "code",
   "execution_count": null,
   "metadata": {
    "colab": {},
    "colab_type": "code",
    "id": "7776PjLFMpWD"
   },
   "outputs": [],
   "source": []
  },
  {
   "cell_type": "code",
   "execution_count": null,
   "metadata": {},
   "outputs": [],
   "source": []
  }
 ],
 "metadata": {
  "accelerator": "TPU",
  "colab": {
   "collapsed_sections": [],
   "name": "LSTM_Midi_Generator.ipynb",
   "provenance": [],
   "version": "0.3.2"
  },
  "kernelspec": {
   "display_name": "Python 3",
   "language": "python",
   "name": "python3"
  },
  "language_info": {
   "codemirror_mode": {
    "name": "ipython",
    "version": 3
   },
   "file_extension": ".py",
   "mimetype": "text/x-python",
   "name": "python",
   "nbconvert_exporter": "python",
   "pygments_lexer": "ipython3",
   "version": "3.7.3"
  }
 },
 "nbformat": 4,
 "nbformat_minor": 1
}
